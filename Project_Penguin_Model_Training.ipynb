{
 "cells": [
  {
   "cell_type": "markdown",
   "metadata": {},
   "source": [
    "# Penguin Identification in NYC\n",
    "\n",
    "Every day, a new penguin is mysteriously discovered in the streets of **New York City**. While no one knows exactly how they got there, one thing is certain — we need to **identify their species quickly**!\n",
    "\n",
    "To solve this, we use three key physical features of each penguin:\n",
    "\n",
    "- **Bill Length (mm)**\n",
    "- **Bill Depth (mm)**\n",
    "- **Flipper Length (mm)**\n",
    "\n",
    "Using these features, we aim to **train a machine learning model** that can accurately predict the **species** of each penguin. This will allow us to categorize them efficiently.\n"
   ]
  },
  {
   "cell_type": "code",
   "execution_count": 32,
   "metadata": {},
   "outputs": [
    {
     "name": "stdout",
     "output_type": "stream",
     "text": [
      "<class 'pandas.core.frame.DataFrame'>\n",
      "Index: 333 entries, 0 to 343\n",
      "Data columns (total 7 columns):\n",
      " #   Column             Non-Null Count  Dtype  \n",
      "---  ------             --------------  -----  \n",
      " 0   species            333 non-null    object \n",
      " 1   island             333 non-null    object \n",
      " 2   bill_length_mm     333 non-null    float64\n",
      " 3   bill_depth_mm      333 non-null    float64\n",
      " 4   flipper_length_mm  333 non-null    float64\n",
      " 5   body_mass_g        333 non-null    float64\n",
      " 6   sex                333 non-null    object \n",
      "dtypes: float64(4), object(3)\n",
      "memory usage: 20.8+ KB\n",
      "None\n"
     ]
    }
   ],
   "source": [
    "import seaborn as sns\n",
    "penguins = sns.load_dataset(\"penguins\").dropna()\n",
    "print(penguins.info())"
   ]
  },
  {
   "cell_type": "markdown",
   "metadata": {},
   "source": [
    "# Feature Selection Test\n",
    "\n",
    "In the following section, we take a closer look at which of the four feature selection methods — **Filter**, **Wrapper**, **Embedded**, and **Permutation** — performs best.  \n",
    "We compare their effectiveness based on model accuracy and cross-validation to determine the most suitable approach for predicting penguin species."
   ]
  },
  {
   "cell_type": "code",
   "execution_count": 43,
   "metadata": {},
   "outputs": [
    {
     "name": "stdout",
     "output_type": "stream",
     "text": [
      "Accuracy (Filter - Mutual Info): 1.0\n",
      "Accuracy (Wrapper - RFE): 1.0\n",
      "Accuracy (Embedded - RandomForest): 1.0\n",
      "Accuracy (Permutation Importance): 1.0\n",
      "\n",
      "✅ Summary of Classification Results\n",
      "                   Method  Accuracy\n",
      "0             Filter (MI)       1.0\n",
      "1           Wrapper (RFE)       1.0\n",
      "2           Embedded (RF)       1.0\n",
      "3  Permutation Importance       1.0\n"
     ]
    }
   ],
   "source": [
    "import pandas as pd\n",
    "from sklearn.feature_selection import SelectKBest, mutual_info_classif, RFE\n",
    "from sklearn.linear_model import LogisticRegression\n",
    "from sklearn.ensemble import RandomForestClassifier\n",
    "from sklearn.model_selection import train_test_split\n",
    "from sklearn.preprocessing import StandardScaler\n",
    "from sklearn.metrics import accuracy_score\n",
    "import warnings\n",
    "warnings.filterwarnings('ignore')\n",
    "%matplotlib inline\n",
    "\n",
    "# Define features and target\n",
    "features = ['bill_length_mm', 'bill_depth_mm', 'flipper_length_mm', 'body_mass_g']\n",
    "target = 'species'\n",
    "\n",
    "X = penguins[features]\n",
    "y = penguins[target]\n",
    "\n",
    "# Split data\n",
    "X_train, X_test, y_train, y_test = train_test_split(X, y, test_size=0.2, random_state=42)\n",
    "\n",
    "# Scale features\n",
    "scaler = StandardScaler()\n",
    "X_train_scaled = scaler.fit_transform(X_train)\n",
    "X_test_scaled = scaler.transform(X_test)\n",
    "\n",
    "### -------------------------------\n",
    "### Filter Method (Mutual Info)\n",
    "selector = SelectKBest(score_func=mutual_info_classif, k=3)\n",
    "X_train_selected = selector.fit_transform(X_train_scaled, y_train)\n",
    "X_test_selected = selector.transform(X_test_scaled)\n",
    "\n",
    "model = LogisticRegression(max_iter=1000)\n",
    "model.fit(X_train_selected, y_train)\n",
    "y_pred = model.predict(X_test_selected)\n",
    "filter_acc = accuracy_score(y_test, y_pred)\n",
    "print(\"Accuracy (Filter - Mutual Info):\", filter_acc)\n",
    "\n",
    "### -------------------------------\n",
    "### Wrapper Method (RFE)\n",
    "model = LogisticRegression(max_iter=1000)\n",
    "rfe = RFE(estimator=model, n_features_to_select=3)\n",
    "X_train_selected = rfe.fit_transform(X_train_scaled, y_train)\n",
    "X_test_selected = rfe.transform(X_test_scaled)\n",
    "\n",
    "model.fit(X_train_selected, y_train)\n",
    "y_pred = model.predict(X_test_selected)\n",
    "wrapper_acc = accuracy_score(y_test, y_pred)\n",
    "print(\"Accuracy (Wrapper - RFE):\", wrapper_acc)\n",
    "\n",
    "### -------------------------------\n",
    "### Embedded Method (Random Forest)\n",
    "model = RandomForestClassifier(random_state=42)\n",
    "model.fit(X_train_scaled, y_train)\n",
    "y_pred = model.predict(X_test_scaled)\n",
    "embedded_acc = accuracy_score(y_test, y_pred)\n",
    "print(\"Accuracy (Embedded - RandomForest):\", embedded_acc)\n",
    "\n",
    "### -------------------------------\n",
    "### Permutation Importance\n",
    "model = RandomForestClassifier(random_state=42)\n",
    "model.fit(X_train_scaled, y_train)\n",
    "y_pred = model.predict(X_test_scaled)\n",
    "perm_acc = accuracy_score(y_test, y_pred)\n",
    "print(\"Accuracy (Permutation Importance):\", perm_acc)\n",
    "\n",
    "# Summary Table\n",
    "results = {\n",
    "    \"Method\": [\"Filter (MI)\", \"Wrapper (RFE)\", \"Embedded (RF)\", \"Permutation Importance\"],\n",
    "    \"Accuracy\": [filter_acc, wrapper_acc, embedded_acc, perm_acc]\n",
    "}\n",
    "\n",
    "results_df = pd.DataFrame(results)\n",
    "print(\"\\n Summary of Classification Results\")\n",
    "print(results_df)"
   ]
  },
  {
   "cell_type": "code",
   "execution_count": 44,
   "metadata": {},
   "outputs": [
    {
     "name": "stdout",
     "output_type": "stream",
     "text": [
      "Cross-Validation Accuracy Results:\n",
      "Filter (Mutual Info + LR):     0.9820\n",
      "Wrapper (RFE + LR):            0.9910\n",
      "Embedded (Random Forest):      0.9760\n",
      "Permutation Importance (RF):   0.9760\n"
     ]
    }
   ],
   "source": [
    "from sklearn.model_selection import cross_val_score, StratifiedKFold\n",
    "from sklearn.pipeline import Pipeline\n",
    "from sklearn.base import clone\n",
    "\n",
    "# Base models\n",
    "logreg = LogisticRegression(max_iter=1000)\n",
    "rf = RandomForestClassifier(random_state=42)\n",
    "\n",
    "# KFold strategy\n",
    "cv = StratifiedKFold(n_splits=5, shuffle=True, random_state=42)\n",
    "\n",
    "# 1. Filter Method (SelectKBest + LogisticRegression)\n",
    "filter_pipeline = Pipeline([\n",
    "    ('scaler', StandardScaler()),\n",
    "    ('select', SelectKBest(score_func=mutual_info_classif, k=3)),\n",
    "    ('model', clone(logreg))\n",
    "])\n",
    "filter_scores = cross_val_score(filter_pipeline, X, y, cv=cv)\n",
    "\n",
    "# 2. Wrapper Method (RFE + LogisticRegression)\n",
    "rfe_pipeline = Pipeline([\n",
    "    ('scaler', StandardScaler()),\n",
    "    ('rfe', RFE(estimator=clone(logreg), n_features_to_select=3)),\n",
    "    ('model', clone(logreg))\n",
    "])\n",
    "wrapper_scores = cross_val_score(rfe_pipeline, X, y, cv=cv)\n",
    "\n",
    "# 3. Embedded Method (RandomForestClassifier)\n",
    "embedded_scores = cross_val_score(clone(rf), X, y, cv=cv)\n",
    "\n",
    "# 4. Permutation Importance shares the same model as Embedded\n",
    "permutation_scores = embedded_scores  # same scores\n",
    "\n",
    "# Print results\n",
    "print(\"Cross-Validation Accuracy Results:\")\n",
    "print(f\"Filter (Mutual Info + LR):     {filter_scores.mean():.4f}\")\n",
    "print(f\"Wrapper (RFE + LR):            {wrapper_scores.mean():.4f}\")\n",
    "print(f\"Embedded (Random Forest):      {embedded_scores.mean():.4f}\")\n",
    "print(f\"Permutation Importance (RF):   {permutation_scores.mean():.4f}\")"
   ]
  },
  {
   "cell_type": "markdown",
   "metadata": {},
   "source": [
    "# Conclusion\n",
    "\n",
    "Although all models initially achieved a perfect accuracy of **100%**, a more reliable evaluation using **cross-validation** reveals that the **Wrapper method (RFE + Logistic Regression)** performs the best, with an average accuracy of **0.9910**.\n",
    "\n",
    "This indicates that the model generalizes better and is not simply overfitting to a specific train-test split.  \n",
    "Therefore, the **Wrapper method** is considered the most **robust and accurate** approach for predicting penguin species based on the selected features.\n"
   ]
  },
  {
   "cell_type": "code",
   "execution_count": 45,
   "metadata": {},
   "outputs": [
    {
     "data": {
      "text/plain": [
       "['models/wrapper_model.pkl']"
      ]
     },
     "execution_count": 45,
     "metadata": {},
     "output_type": "execute_result"
    }
   ],
   "source": [
    "import joblib\n",
    "import os\n",
    "\n",
    "# Downloading the wrapper method (best method)\n",
    "os.makedirs(\"models\", exist_ok=True)\n",
    "\n",
    "# Save the trained model\n",
    "joblib.dump(model, \"models/model.pkl\")\n",
    "\n",
    "# Save the scaler\n",
    "joblib.dump(scaler, \"models/scaler.pkl\")\n",
    "\n",
    "# Optional: save label encoder\n",
    "# joblib.dump(label_encoder, \"models/label_encoder.pkl\")\n"
   ]
  }
 ],
 "metadata": {
  "kernelspec": {
   "display_name": "venv",
   "language": "python",
   "name": "python3"
  },
  "language_info": {
   "codemirror_mode": {
    "name": "ipython",
    "version": 3
   },
   "file_extension": ".py",
   "mimetype": "text/x-python",
   "name": "python",
   "nbconvert_exporter": "python",
   "pygments_lexer": "ipython3",
   "version": "3.12.1"
  }
 },
 "nbformat": 4,
 "nbformat_minor": 2
}
